{
 "cells": [
  {
   "cell_type": "code",
   "execution_count": 1,
   "metadata": {},
   "outputs": [],
   "source": [
    "using Pkg\n",
    "Pkg.activate(\"..\");"
   ]
  },
  {
   "cell_type": "code",
   "execution_count": 2,
   "metadata": {},
   "outputs": [
    {
     "name": "stderr",
     "output_type": "stream",
     "text": [
      "┌ Info: Recompiling stale cache file /home/trittenb/.julia/compiled/v1.1/OCALPlots/MW3RA.ji for OCALPlots [4194d700-ee83-11e8-2783-1f838a7c2787]\n",
      "└ @ Base loading.jl:1184\n"
     ]
    }
   ],
   "source": [
    "using MLKernels\n",
    "using Distributions\n",
    "using Plots\n",
    "using Random\n",
    "using Optim\n",
    "using LinearAlgebra\n",
    "using NearestNeighbors\n",
    "using SVDD\n",
    "using OCALPlots\n",
    "using JuMP, Gurobi"
   ]
  },
  {
   "cell_type": "code",
   "execution_count": null,
   "metadata": {},
   "outputs": [
    {
     "name": "stderr",
     "output_type": "stream",
     "text": [
      "┌ Info: Recompiling stale cache file /home/trittenb/.julia/compiled/v1.1/KernelLearning.ji for KernelLearning [top-level]\n",
      "└ @ Base loading.jl:1184\n"
     ]
    }
   ],
   "source": [
    "modulepath = abspath(joinpath(@__DIR__, \"../src/KernelLearning\"));\n",
    "push!(LOAD_PATH, modulepath);\n",
    "using KernelLearning"
   ]
  },
  {
   "cell_type": "code",
   "execution_count": null,
   "metadata": {},
   "outputs": [],
   "source": [
    "@recipe function plot_svdd(m::SVDD.SVDDClassifier, labels::Vector{Symbol}; grid_resolution = 100, axis_overhang = 0.2, db_color=:black)\n",
    "    grid_range, grid_data = OCALPlots.get_grid(extrema(m.data)..., grid_resolution, axis_overhang)\n",
    "    grid_scores = reshape(SVDD.predict(m, grid_data), grid_resolution, grid_resolution)\n",
    "    data_class = SVDD.classify.(SVDD.predict(m, m.data))\n",
    "    \n",
    "    title --> \"Decision Boundary\"\n",
    "    \n",
    "    @series begin\n",
    "        seriestype := :contourf\n",
    "        seriescolor --> :greens\n",
    "        levels := range(0, maximum(grid_scores), length=10)\n",
    "        grid_range, grid_range, grid_scores\n",
    "    end\n",
    "\n",
    "    colors = (inlier = :blue, outlier = :red)\n",
    "    shapes = (inlier = :circle, outlier = :star8)\n",
    "\n",
    "    markeralpha --> 0.7\n",
    "    markersize --> 5\n",
    "\n",
    "    for l in [:inlier, :outlier]\n",
    "        markercolor := colors[l]\n",
    "        for dc in [:inlier, :outlier]\n",
    "            markershape := shapes[dc]\n",
    "            @series begin\n",
    "                seriestype := :scatter\n",
    "                label := OCALPlots.get_legend_text(l, dc)\n",
    "                OCALPlots.split_2d_array(m.data, (labels.==l) .& (data_class .== dc))\n",
    "            end\n",
    "       end\n",
    "    end\n",
    "\n",
    "    @series begin\n",
    "        seriestype := :contour\n",
    "        levels := [0]\n",
    "        linewidth := 3\n",
    "        seriescolor := [db_color]\n",
    "        cbar:= false\n",
    "        grid_range, grid_range, grid_scores\n",
    "    end\n",
    "end"
   ]
  },
  {
   "cell_type": "code",
   "execution_count": null,
   "metadata": {},
   "outputs": [],
   "source": [
    "fntsm = Plots.font(\"sans-serif\", pointsize=10)\n",
    "fntlg = Plots.font(\"sans-serif\", pointsize=10)\n",
    "default(titlefont=fntlg, guidefont=fntlg, tickfont=fntsm, legendfont=fntsm)\n",
    "default(markersize=8)"
   ]
  },
  {
   "cell_type": "code",
   "execution_count": null,
   "metadata": {},
   "outputs": [],
   "source": [
    "solver = with_optimizer(Gurobi.Optimizer; OutputFlag=0, Threads=1)"
   ]
  },
  {
   "cell_type": "code",
   "execution_count": null,
   "metadata": {},
   "outputs": [],
   "source": [
    "alignment(K1, K2) = dot(K1, K2) / sqrt(norm(K1) * norm(K2))"
   ]
  },
  {
   "cell_type": "markdown",
   "metadata": {},
   "source": [
    "#### Data Generation"
   ]
  },
  {
   "cell_type": "code",
   "execution_count": null,
   "metadata": {},
   "outputs": [],
   "source": [
    "Random.seed!(7);"
   ]
  },
  {
   "cell_type": "code",
   "execution_count": null,
   "metadata": {},
   "outputs": [],
   "source": [
    "μ = 0.0\n",
    "σ = 1.0 \n",
    "n = 200\n",
    "data = rand(MvNormal(2, σ), n)\n",
    "data = hcat(data, [-2, 0], [.7, 1.6], [0,3])\n",
    "labels = vcat(fill(:inlier, n), :inlier, :inlier, :outlier);\n",
    "\n",
    "data = hcat(data, [1,-3], [-2, 3])\n",
    "labels = vcat(labels, :outlier, :outlier);"
   ]
  },
  {
   "cell_type": "code",
   "execution_count": null,
   "metadata": {},
   "outputs": [],
   "source": [
    "pools = fill(:U, 205)\n",
    "pools[[1,5]] .= :Lin\n",
    "pools[[n+4]] .= :Lout"
   ]
  },
  {
   "cell_type": "code",
   "execution_count": null,
   "metadata": {},
   "outputs": [],
   "source": [
    "Plots.scatter(data[1, pools.==:U], data[2, pools.==:U], color=:lightgrey, label=:U)\n",
    "Plots.scatter!(data[1, pools.==:Lin], data[2, pools.==:Lin], color=:blue, label=:Lin, markershape = :utriangle)\n",
    "p = Plots.scatter!(data[1, pools.==:Lout], data[2, pools.==:Lout], color=:red, label=:Lout, legend=:topleft)"
   ]
  },
  {
   "cell_type": "code",
   "execution_count": null,
   "metadata": {},
   "outputs": [],
   "source": [
    "savefig(p, \"plots/sample_global.pdf\")"
   ]
  },
  {
   "cell_type": "markdown",
   "metadata": {},
   "source": [
    "#### Global Alignment on Sample"
   ]
  },
  {
   "cell_type": "code",
   "execution_count": null,
   "metadata": {},
   "outputs": [],
   "source": [
    "y = [1/3, 1/3, -1]\n",
    "K_opt = y*y'\n",
    "samples = data"
   ]
  },
  {
   "cell_type": "code",
   "execution_count": null,
   "metadata": {},
   "outputs": [],
   "source": [
    "function neg_alignment(gamma)\n",
    "    K_empiric = kernelmatrix(Val(:col), GaussianKernel(gamma), samples[:, [1, 5, n+4]])\n",
    "    -alignment(K_empiric, K_opt)    \n",
    "end\n",
    "\n",
    "pos_alignment(gamma) = -neg_alignment(gamma)"
   ]
  },
  {
   "cell_type": "code",
   "execution_count": null,
   "metadata": {},
   "outputs": [],
   "source": [
    "res = Optim.optimize(neg_alignment, 0.1, 10.0, abs_tol=0.1)\n",
    "gamma_global = res.minimizer"
   ]
  },
  {
   "cell_type": "code",
   "execution_count": null,
   "metadata": {},
   "outputs": [],
   "source": [
    "plot(neg_alignment)"
   ]
  },
  {
   "cell_type": "code",
   "execution_count": null,
   "metadata": {},
   "outputs": [],
   "source": [
    "kernelmatrix(Val(:col), GaussianKernel(res.minimizer), data[:, end-2:end])"
   ]
  },
  {
   "cell_type": "code",
   "execution_count": null,
   "metadata": {},
   "outputs": [],
   "source": [
    "model_2 = VanillaSVDD(data)\n",
    "init_strategy = FixedParameterInitialization(GaussianKernel(gamma_global), 0.04)\n",
    "initialize!(model_2, init_strategy)\n",
    "fit!(model_2, solver)\n",
    "\n",
    "p = Plots.plot(model_2, fill(:inlier, size(data,2)), title=\"\", color=:blues, legend=false)"
   ]
  },
  {
   "cell_type": "code",
   "execution_count": null,
   "metadata": {},
   "outputs": [],
   "source": [
    "savefig(p, \"plots/sample_global_svdd.pdf\")"
   ]
  },
  {
   "cell_type": "markdown",
   "metadata": {},
   "source": [
    "##### Alignment on ground truth"
   ]
  },
  {
   "cell_type": "code",
   "execution_count": null,
   "metadata": {},
   "outputs": [],
   "source": [
    "y_gt = vcat(fill(1.0/(n+2), n+2), fill(1.0/3, 3))\n",
    "K_gt = y_gt*y_gt';"
   ]
  },
  {
   "cell_type": "code",
   "execution_count": null,
   "metadata": {},
   "outputs": [],
   "source": [
    "K_opt = K_gt;"
   ]
  },
  {
   "cell_type": "code",
   "execution_count": null,
   "metadata": {},
   "outputs": [],
   "source": [
    "alignment(K1, K2) = dot(K1, K2) / sqrt(norm(K1) * norm(K2))\n",
    "\n",
    "function neg_alignment(gamma)\n",
    "    K_empiric = centerkernelmatrix(kernelmatrix(Val(:col), GaussianKernel(gamma), data))\n",
    "    _K = centerkernelmatrix(K_opt)\n",
    "    -alignment(K_empiric, _K)\n",
    "end\n",
    "\n",
    "pos_alignment(gamma) = -neg_alignment(gamma)"
   ]
  },
  {
   "cell_type": "code",
   "execution_count": null,
   "metadata": {},
   "outputs": [],
   "source": [
    "plot(neg_alignment, 0, 100)"
   ]
  },
  {
   "cell_type": "code",
   "execution_count": null,
   "metadata": {},
   "outputs": [],
   "source": [
    "res_pos = Optim.optimize(pos_alignment, 0.01, 1.0, abs_tol=0.05)\n",
    "res_pos.minimizer"
   ]
  },
  {
   "cell_type": "code",
   "execution_count": null,
   "metadata": {},
   "outputs": [],
   "source": [
    "res = Optim.optimize(neg_alignment, 0.01, res_pos.minimizer, abs_tol=0.05)\n",
    "gamma_gt = res.minimizer"
   ]
  },
  {
   "cell_type": "markdown",
   "metadata": {},
   "source": [
    "##### Alignment based on local neighborhood"
   ]
  },
  {
   "cell_type": "code",
   "execution_count": null,
   "metadata": {},
   "outputs": [],
   "source": [
    "k=15\n",
    "nnpool = NNPool(data, k=k);\n",
    "\n",
    "KernelLearning.add_to_pools!(nnpool, 1, :inlier, k)\n",
    "KernelLearning.add_to_pools!(nnpool, 5, :inlier, k)\n",
    "# KernelLearning.add_to_pools!(nnpool, 94, :inlier, k)\n",
    "\n",
    "KernelLearning.add_to_pools!(nnpool, n+4, :outlier, k)"
   ]
  },
  {
   "cell_type": "code",
   "execution_count": null,
   "metadata": {},
   "outputs": [],
   "source": [
    "idx = collect(keys(nnpool.nn_pools[:Lin]) ∪ keys(nnpool.nn_pools[:Lout]));"
   ]
  },
  {
   "cell_type": "code",
   "execution_count": null,
   "metadata": {},
   "outputs": [],
   "source": [
    "y = zeros(size(data, 2));"
   ]
  },
  {
   "cell_type": "code",
   "execution_count": null,
   "metadata": {},
   "outputs": [],
   "source": [
    "y[idx] .= [get(nnpool.nn_pools[:Lin], id, 0) / (get(nnpool.nn_pools[:Lin], id, 0) + get(nnpool.nn_pools[:Lout], id, 0)) for id in idx]\n",
    "y[idx] = ifelse.(y[idx] .> 0.5, 1, -1)\n",
    "\n",
    "idx_in = findall(y .== 1)\n",
    "idx_out = findall(y .== -1);"
   ]
  },
  {
   "cell_type": "code",
   "execution_count": null,
   "metadata": {},
   "outputs": [],
   "source": [
    "K_opt = y * y';"
   ]
  },
  {
   "cell_type": "code",
   "execution_count": null,
   "metadata": {},
   "outputs": [],
   "source": [
    "kdtree = KDTree(data; leafsize = k)\n",
    "nn = knn(kdtree, data, k, true)[1]\n",
    "reverse_nn = KernelLearning.reverseKNN(nn)\n",
    "symmetric_nn = [n ∩ r for (n,r) in zip(nn, reverse_nn)];"
   ]
  },
  {
   "cell_type": "code",
   "execution_count": null,
   "metadata": {},
   "outputs": [],
   "source": [
    "K_c = kernelmatrix(Val(:col), GaussianKernel(res.minimizer), data);"
   ]
  },
  {
   "cell_type": "code",
   "execution_count": null,
   "metadata": {},
   "outputs": [],
   "source": [
    "mask = falses(size(K_c))\n",
    "\n",
    "for (_, id) in enumerate(findall(nnpool.pools .!= :U)) #i ∈ L_in\n",
    "    @show id\n",
    "    if y[id] == 1\n",
    "        # TODO: why don't we also use the observation itself, i.e., [1:end]?\n",
    "        nn_in = nn[id][1:end] ∩ idx_in # L'_in ∩ NN_k(i)\n",
    "        nn_out = nn[id][1:end] ∩ idx_out\n",
    "    else\n",
    "        nn_in = setdiff(nn[id][1:end], reverse_nn[id][1:end]) ∩ idx_in\n",
    "        nn_out = symmetric_nn[id][1:end] ∩ idx_out\n",
    "    end\n",
    "        \n",
    "    @show nn_in, nn_out\n",
    "\n",
    "    if length(nn_in) > 0\n",
    "        mask[id, nn_in[1:min(end, k)]] .= true\n",
    "        mask[nn_in[1:min(end, k)], id] .= true\n",
    "    end\n",
    "\n",
    "    if length(nn_out) > 0\n",
    "        mask[id, nn_out[1:min(end, k)]] .= true\n",
    "        mask[nn_out[1:min(end, k)], id] .= true\n",
    "    end\n",
    "end"
   ]
  },
  {
   "cell_type": "code",
   "execution_count": null,
   "metadata": {},
   "outputs": [],
   "source": [
    "M_in = reduce(union, [(nn[id][1:end] ∩ idx_in) ∪ (nn[id][1:end] ∩ idx_out) for id in findall(nnpool.pools .== :Lin)]);\n",
    "M_out = reduce(union, [(setdiff(nn[id][1:end], reverse_nn[id][1:end]) ∩ idx_in) ∪ (symmetric_nn[id][1:end] ∩ idx_out) for id in findall(nnpool.pools .== :Lout)]);"
   ]
  },
  {
   "cell_type": "code",
   "execution_count": null,
   "metadata": {},
   "outputs": [],
   "source": [
    "Plots.scatter(data[1, setdiff(findall(nnpool.pools .== :U), M_in ∪ M_out)], data[2, setdiff(findall(nnpool.pools .== :U), M_in ∪ M_out)], color=:lightgrey, label=\"U\")\n",
    "Plots.scatter!(data[1, setdiff(M_in, findall(nnpool.pools.!=:U))], data[2, setdiff(M_in, findall(nnpool.pools.!=:U))], color=:orange, label=\"M_in\", markershape=:hexagon)\n",
    "Plots.scatter!(data[1, setdiff(M_out, findall(nnpool.pools.!=:U))], data[2, setdiff(M_out, findall(nnpool.pools.!=:U))], color=:green, label=\"M_out\", markershape=:star)\n",
    "Plots.scatter!(data[1,nnpool.pools.==:Lin], data[2,nnpool.pools.==:Lin], color=:blue, label=:Lin, markershape = :utriangle)\n",
    "p = Plots.scatter!(data[1,nnpool.pools.==:Lout], data[2,nnpool.pools.==:Lout], color=:red, label=:Lout, legend=:topleft)"
   ]
  },
  {
   "cell_type": "code",
   "execution_count": null,
   "metadata": {},
   "outputs": [],
   "source": [
    "savefig(p, \"plots/sample_masked.pdf\")"
   ]
  },
  {
   "cell_type": "code",
   "execution_count": null,
   "metadata": {},
   "outputs": [],
   "source": [
    "function neg_alignment(gamma)\n",
    "    K_empiric = kernelmatrix(Val(:col), GaussianKernel(gamma), data)\n",
    "    -alignment(centerkernelmatrix(K_empiric)[mask], centerkernelmatrix(K_opt)[mask])\n",
    "end\n",
    "\n",
    "pos_alignment(gamma) = -neg_alignment(gamma)"
   ]
  },
  {
   "cell_type": "code",
   "execution_count": null,
   "metadata": {},
   "outputs": [],
   "source": [
    "plot(neg_alignment, 0, 10)"
   ]
  },
  {
   "cell_type": "code",
   "execution_count": null,
   "metadata": {},
   "outputs": [],
   "source": [
    "res_pos = Optim.optimize(pos_alignment, 1.0, 100.0, abs_tol=0.1)\n",
    "@show res_pos.minimizer\n",
    "\n",
    "res = Optim.optimize(neg_alignment, 0.0, res_pos.minimizer, abs_tol=0.01)\n",
    "@show res.minimizer\n",
    "gamma_local = res.minimizer"
   ]
  },
  {
   "cell_type": "markdown",
   "metadata": {},
   "source": [
    "##### Apply to SVDD"
   ]
  },
  {
   "cell_type": "code",
   "execution_count": null,
   "metadata": {},
   "outputs": [],
   "source": [
    "model_1 = VanillaSVDD(data)\n",
    "init_strategy = FixedParameterInitialization(GaussianKernel(gamma_local), 0.04)\n",
    "initialize!(model_1, init_strategy)\n",
    "fit!(model_1, solver)\n",
    "\n",
    "p = Plots.plot(model_1, fill(:inlier, size(data,2)), color=:blues, legend=false, title=\"\")"
   ]
  },
  {
   "cell_type": "code",
   "execution_count": null,
   "metadata": {},
   "outputs": [],
   "source": [
    "savefig(p, \"plots/sample_masked_svdd.pdf\")"
   ]
  }
 ],
 "metadata": {
  "kernelspec": {
   "display_name": "Julia 1.1.0",
   "language": "julia",
   "name": "julia-1.1"
  },
  "language_info": {
   "file_extension": ".jl",
   "mimetype": "application/julia",
   "name": "julia",
   "version": "1.1.0"
  }
 },
 "nbformat": 4,
 "nbformat_minor": 2
}
