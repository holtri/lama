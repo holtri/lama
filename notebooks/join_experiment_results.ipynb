{
 "cells": [
  {
   "cell_type": "code",
   "execution_count": 1,
   "metadata": {},
   "outputs": [
    {
     "name": "stdout",
     "output_type": "stream",
     "text": [
      "The history saving thread hit an unexpected error (DatabaseError('database disk image is malformed')).History will not be written to the database.\n"
     ]
    }
   ],
   "source": [
    "import os\n",
    "import json\n",
    "import re\n",
    "import pandas as pd\n",
    "import numpy as np\n",
    "from pandas.io.json import json_normalize"
   ]
  },
  {
   "cell_type": "code",
   "execution_count": 2,
   "metadata": {},
   "outputs": [],
   "source": [
    "def load_results(path):\n",
    "    experiment_file = os.path.join(path, \"experiments.json\")\n",
    "    \n",
    "    with open(experiment_file) as train_file:\n",
    "        dict_train = json.load(train_file)\n",
    "        experiments = json_normalize(dict_train)\n",
    "    results = pd.DataFrame()\n",
    "    \n",
    "    for subdir, dirs, files in os.walk(os.path.join(path, \"results\")):\n",
    "        for file in files:\n",
    "            f = os.path.join(subdir, file)\n",
    "            with open(f) as res_file:\n",
    "                res = json.load(res_file)\n",
    "                results = results.append(json_normalize(res), sort=True)\n",
    "                \n",
    "    results.hash = results.hash.astype(str)\n",
    "    experiments.hash = experiments.hash.astype(str)\n",
    "    \n",
    "    e = experiments.drop(['quality_metrics.kappa'], axis=1).set_index('hash') # duplicate entry\n",
    "    r = results[['hash', 'method', 'quality_metrics.kappa', 'result.C', 'result.gamma', 'result.metrics.kappa', 'result.metrics.f1']].set_index('hash')\n",
    "    res_df = r.join(e)\n",
    "    res_df['run'] = path.split(\"/\")[-1]\n",
    "    return res_df"
   ]
  },
  {
   "cell_type": "code",
   "execution_count": 3,
   "metadata": {},
   "outputs": [],
   "source": [
    "res_AL = load_results(\"../data/output/AL\")\n",
    "res_competitors = load_results(\"../data/output/Competitors\")"
   ]
  },
  {
   "cell_type": "code",
   "execution_count": 4,
   "metadata": {},
   "outputs": [],
   "source": [
    "res_full = pd.concat([res_AL, res_competitors], axis=0, sort=False)"
   ]
  },
  {
   "cell_type": "code",
   "execution_count": 5,
   "metadata": {},
   "outputs": [],
   "source": [
    "res_full.to_pickle(\"../data/output/run_full.pkl\")"
   ]
  },
  {
   "cell_type": "code",
   "execution_count": 6,
   "metadata": {},
   "outputs": [],
   "source": [
    "res_kappa = load_results(\"../data/output/AL-kappa\")\n",
    "res_kappa.to_pickle(\"../data/output/run_kappa.pkl\")"
   ]
  }
 ],
 "metadata": {
  "kernelspec": {
   "display_name": "Python 3",
   "language": "python",
   "name": "python3"
  },
  "language_info": {
   "codemirror_mode": {
    "name": "ipython",
    "version": 3
   },
   "file_extension": ".py",
   "mimetype": "text/x-python",
   "name": "python",
   "nbconvert_exporter": "python",
   "pygments_lexer": "ipython3",
   "version": "3.7.3"
  }
 },
 "nbformat": 4,
 "nbformat_minor": 2
}
